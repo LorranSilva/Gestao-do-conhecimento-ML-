{
  "nbformat": 4,
  "nbformat_minor": 0,
  "metadata": {
    "kernelspec": {
      "display_name": "Python 3",
      "language": "python",
      "name": "python3"
    },
    "language_info": {
      "codemirror_mode": {
        "name": "ipython",
        "version": 3
      },
      "file_extension": ".py",
      "mimetype": "text/x-python",
      "name": "python",
      "nbconvert_exporter": "python",
      "pygments_lexer": "ipython3",
      "version": "3.7.2"
    },
    "colab": {
      "name": "2021_2_Prova_AV2_Gestão_do_Conhecimento.ipynb",
      "provenance": [],
      "collapsed_sections": []
    }
  },
  "cells": [
    {
      "cell_type": "markdown",
      "metadata": {
        "id": "8e6IcCsJCxVz"
      },
      "source": [
        "DISCIPLINA: Gestão do Conhecimento\t PROFESSOR(A): Alex Salgado\n",
        "PERÍODO: 7o. TURNO: noite AVALIAÇÃO:\n",
        "\n",
        "ALUNO(A): JIAXING CHEN, WILLIAN DOMINGUES, LORRAN TITO\n",
        "\n",
        "GRAU: VISTO DO PROFESSOR:\n"
      ]
    },
    {
      "cell_type": "markdown",
      "metadata": {
        "id": "_3h1pahVCxV2"
      },
      "source": [
        "# Questão 1 - valor (0,0)\n"
      ]
    },
    {
      "cell_type": "markdown",
      "metadata": {
        "id": "A-cj5d2rCxV3"
      },
      "source": [
        "*** Crie um repositório no Github e adicione este arquivo no mesmo\n",
        "\n",
        "\n",
        "1.1 - Você deve escolher uma base de dados do Kaggle.\n",
        "\n",
        "A natureza desse dataset deve se encaixar em um problema que podemos resolver utilizando modelos de previsão de machine learning supervisionado de classificação. \n",
        "\n",
        "A partir desta base de dados do Kaggle, você vai treinar o modelo, fazer previsões e calcular a acurácia do mesmo, usando modelos e algoritmos que desejar.\n",
        "\n",
        "Obs1: Usar o Kaggle como fonte para o seu dataset obrigatoriamente.\n",
        "Obs2: Implementações idênticas ou bem parecidas pode levar a anulação da NOTA ou seja, ZERO!! Faça o melhor com sua equipe apenas.\n"
      ]
    },
    {
      "cell_type": "code",
      "metadata": {
        "id": "MfhVnNHC52wF"
      },
      "source": [
        ""
      ],
      "execution_count": null,
      "outputs": []
    },
    {
      "cell_type": "markdown",
      "metadata": {
        "id": "3P5uSWxsDb5r"
      },
      "source": [
        "1.1 - Coloque aqui o link para o seu dataset escolhido no Kaggle.\n",
        "\n"
      ]
    },
    {
      "cell_type": "code",
      "metadata": {
        "id": "E5KjBhtQ0tT5"
      },
      "source": [
        "https://www.kaggle.com/kukuroo3/dataset-of-kaggle-dataset-include-medalvotecount"
      ],
      "execution_count": null,
      "outputs": []
    },
    {
      "cell_type": "markdown",
      "metadata": {
        "id": "9ZAK23bp0uiv"
      },
      "source": [
        "1.1.1 - Descreva sobre o que é base de dados."
      ]
    },
    {
      "cell_type": "code",
      "metadata": {
        "id": "GJXzGjne0xc3"
      },
      "source": [
        "#Conjunto de dados que agrupa o total de upvotes para entender como funciona o \n",
        "#rankemento do kaggle, basicamente pode ser usado para criar estratégias de como \n",
        "#ganhar medalhas na plataforma (kaggle)"
      ],
      "execution_count": null,
      "outputs": []
    },
    {
      "cell_type": "markdown",
      "metadata": {
        "id": "PikuHGzs0xrS"
      },
      "source": [
        "1.1.2 - Se você fez em grupo, quais os nomes dos componentes do seu grupo?"
      ]
    },
    {
      "cell_type": "code",
      "metadata": {
        "id": "CWD182zJCxV4"
      },
      "source": [
        "#Lorran Matheus Silva Soares Tito, Willian Pereira Domingues e JiaXing Chen"
      ],
      "execution_count": null,
      "outputs": []
    },
    {
      "cell_type": "markdown",
      "metadata": {
        "id": "a-D7KRIzCxV8"
      },
      "source": [
        "1.2 - Após tratada, criar uma pasta no seu GoogleDrive e disponibilizar o link do arquivo de sua base (csv, xlsx, etc) para ser importado no seu código."
      ]
    },
    {
      "cell_type": "code",
      "metadata": {
        "colab": {
          "base_uri": "https://localhost:8080/"
        },
        "id": "79BaSUmOLoKg",
        "outputId": "c45020d2-49d7-4499-cd6f-f2c8a1f0439a"
      },
      "source": [
        "from google.colab import drive\n",
        "drive.mount('/content/drive')"
      ],
      "execution_count": 1,
      "outputs": [
        {
          "output_type": "stream",
          "name": "stdout",
          "text": [
            "Mounted at /content/drive\n"
          ]
        }
      ]
    },
    {
      "cell_type": "markdown",
      "metadata": {
        "id": "lvPXgDBDCxV_"
      },
      "source": [
        "## Criar um código usando o Jupyter Notebook e responder (através de código) às seguintes questões:\n"
      ]
    },
    {
      "cell_type": "markdown",
      "metadata": {
        "id": "LMkAEsOKCxWA"
      },
      "source": [
        "# Questão 2 - valor (1,5)"
      ]
    },
    {
      "cell_type": "markdown",
      "metadata": {
        "id": "yOSNQel0CxWA"
      },
      "source": [
        "2.1 - Importar os modulos python para machine learn e carregar o arquivo \n",
        "\n",
        "** Sugestão se for do tipo xlsx, usar o read_excel do pandas\n",
        "import pandas as pd\n",
        "dt = pd.read_excel(\"meuarquivo.xlsx\")\n"
      ]
    },
    {
      "cell_type": "code",
      "metadata": {
        "id": "mrX5gt7mA8Oo"
      },
      "source": [
        "import warnings"
      ],
      "execution_count": 2,
      "outputs": []
    },
    {
      "cell_type": "code",
      "metadata": {
        "id": "GTciDIBaEWZA"
      },
      "source": [
        "import numpy as np"
      ],
      "execution_count": 3,
      "outputs": []
    },
    {
      "cell_type": "code",
      "metadata": {
        "id": "1zjZp-NaPQWF"
      },
      "source": [
        "import pandas as pd"
      ],
      "execution_count": 4,
      "outputs": []
    },
    {
      "cell_type": "code",
      "metadata": {
        "id": "CWJJFgwZA-JQ"
      },
      "source": [
        "warnings.filterwarnings(\"ignore\")"
      ],
      "execution_count": 5,
      "outputs": []
    },
    {
      "cell_type": "code",
      "metadata": {
        "id": "zA6l-qg9CxWB"
      },
      "source": [
        "df=pd.read_csv(\"/content/drive/MyDrive/Colab_Notebooks/medalvotecount_modificado_.csv\")"
      ],
      "execution_count": 6,
      "outputs": []
    },
    {
      "cell_type": "code",
      "metadata": {
        "colab": {
          "base_uri": "https://localhost:8080/",
          "height": 771
        },
        "id": "6mKKmoLVSmxJ",
        "outputId": "1ed17a4d-cf9a-4aaf-e32a-ddc90fe04951"
      },
      "source": [
        "df"
      ],
      "execution_count": 7,
      "outputs": [
        {
          "output_type": "execute_result",
          "data": {
            "text/html": [
              "<div>\n",
              "<style scoped>\n",
              "    .dataframe tbody tr th:only-of-type {\n",
              "        vertical-align: middle;\n",
              "    }\n",
              "\n",
              "    .dataframe tbody tr th {\n",
              "        vertical-align: top;\n",
              "    }\n",
              "\n",
              "    .dataframe thead th {\n",
              "        text-align: right;\n",
              "    }\n",
              "</style>\n",
              "<table border=\"1\" class=\"dataframe\">\n",
              "  <thead>\n",
              "    <tr style=\"text-align: right;\">\n",
              "      <th></th>\n",
              "      <th>DataSetMedals</th>\n",
              "      <th>ct</th>\n",
              "      <th>dataUrl</th>\n",
              "      <th>totalviews</th>\n",
              "      <th>votecount</th>\n",
              "      <th>medalvotecount</th>\n",
              "      <th>totaldownloads</th>\n",
              "      <th>totalkernel</th>\n",
              "      <th>title</th>\n",
              "      <th>description</th>\n",
              "      <th>key</th>\n",
              "      <th>license</th>\n",
              "    </tr>\n",
              "  </thead>\n",
              "  <tbody>\n",
              "    <tr>\n",
              "      <th>0</th>\n",
              "      <td>2</td>\n",
              "      <td>2015-12-09 06:16:00</td>\n",
              "      <td>benhamner/nips-2015-papers</td>\n",
              "      <td>69099</td>\n",
              "      <td>96</td>\n",
              "      <td>29</td>\n",
              "      <td>4466</td>\n",
              "      <td>80</td>\n",
              "      <td>NIPS 2015 Papers</td>\n",
              "      <td>[Neural Information Processing Systems (NIPS)]...</td>\n",
              "      <td>['business', 'linguistics', 'artificial intell...</td>\n",
              "      <td>ODbL-1.0</td>\n",
              "    </tr>\n",
              "    <tr>\n",
              "      <th>1</th>\n",
              "      <td>3</td>\n",
              "      <td>2016-02-19 06:37:00</td>\n",
              "      <td>benhamner/2016-us-election</td>\n",
              "      <td>233338</td>\n",
              "      <td>513</td>\n",
              "      <td>90</td>\n",
              "      <td>25261</td>\n",
              "      <td>259</td>\n",
              "      <td>2016 US Election</td>\n",
              "      <td>This contains data relevant for the 2016 US Pr...</td>\n",
              "      <td>['earth and nature', 'politics', 'computer sci...</td>\n",
              "      <td>CC-BY-NC-SA-4.0</td>\n",
              "    </tr>\n",
              "    <tr>\n",
              "      <th>2</th>\n",
              "      <td>2</td>\n",
              "      <td>2016-03-08 22:41:02</td>\n",
              "      <td>seanlahman/the-history-of-baseball</td>\n",
              "      <td>63116</td>\n",
              "      <td>254</td>\n",
              "      <td>47</td>\n",
              "      <td>9294</td>\n",
              "      <td>143</td>\n",
              "      <td>The History of Baseball</td>\n",
              "      <td>Baffled why your team traded for that 34-year-...</td>\n",
              "      <td>['baseball', 'history']</td>\n",
              "      <td>CC-BY-SA-3.0</td>\n",
              "    </tr>\n",
              "    <tr>\n",
              "      <th>3</th>\n",
              "      <td>3</td>\n",
              "      <td>2016-03-09 04:10:56</td>\n",
              "      <td>mylesoneill/world-university-rankings</td>\n",
              "      <td>335275</td>\n",
              "      <td>893</td>\n",
              "      <td>158</td>\n",
              "      <td>60607</td>\n",
              "      <td>487</td>\n",
              "      <td>World University Rankings</td>\n",
              "      <td>Of all the universities in the world, which ar...</td>\n",
              "      <td>['universities and colleges']</td>\n",
              "      <td>copyright-authors</td>\n",
              "    </tr>\n",
              "    <tr>\n",
              "      <th>4</th>\n",
              "      <td>1</td>\n",
              "      <td>2016-03-16 00:00:00</td>\n",
              "      <td>wcukierski/2016-march-ml-mania</td>\n",
              "      <td>18782</td>\n",
              "      <td>58</td>\n",
              "      <td>16</td>\n",
              "      <td>1895</td>\n",
              "      <td>73</td>\n",
              "      <td>2016 March ML Mania Predictions</td>\n",
              "      <td>Kaggle’s [March Machine Learning Mania](https:...</td>\n",
              "      <td>['games', 'basketball', 'artificial intelligen...</td>\n",
              "      <td>CC-BY-NC-SA-4.0</td>\n",
              "    </tr>\n",
              "    <tr>\n",
              "      <th>...</th>\n",
              "      <td>...</td>\n",
              "      <td>...</td>\n",
              "      <td>...</td>\n",
              "      <td>...</td>\n",
              "      <td>...</td>\n",
              "      <td>...</td>\n",
              "      <td>...</td>\n",
              "      <td>...</td>\n",
              "      <td>...</td>\n",
              "      <td>...</td>\n",
              "      <td>...</td>\n",
              "      <td>...</td>\n",
              "    </tr>\n",
              "    <tr>\n",
              "      <th>42950</th>\n",
              "      <td>0</td>\n",
              "      <td>2021-11-20 18:15:00</td>\n",
              "      <td>alexx8bits/phishing-detection-systematic-revie...</td>\n",
              "      <td>8</td>\n",
              "      <td>1</td>\n",
              "      <td>0</td>\n",
              "      <td>1</td>\n",
              "      <td>0</td>\n",
              "      <td>Phishing Detection - Systematic Review 2019-2021</td>\n",
              "      <td>NaN</td>\n",
              "      <td>[]</td>\n",
              "      <td>unknown</td>\n",
              "    </tr>\n",
              "    <tr>\n",
              "      <th>42951</th>\n",
              "      <td>0</td>\n",
              "      <td>2021-11-20 18:31:13</td>\n",
              "      <td>sarcasticpsycho/bangla-hate-speech-detection-f...</td>\n",
              "      <td>4</td>\n",
              "      <td>1</td>\n",
              "      <td>0</td>\n",
              "      <td>4</td>\n",
              "      <td>0</td>\n",
              "      <td>Bangla Hate Speech Detection From Videos</td>\n",
              "      <td>NaN</td>\n",
              "      <td>[]</td>\n",
              "      <td>unknown</td>\n",
              "    </tr>\n",
              "    <tr>\n",
              "      <th>42952</th>\n",
              "      <td>0</td>\n",
              "      <td>2021-11-20 21:25:30</td>\n",
              "      <td>baycelik/traffic-density-january-2020-dataset</td>\n",
              "      <td>12</td>\n",
              "      <td>1</td>\n",
              "      <td>1</td>\n",
              "      <td>1</td>\n",
              "      <td>0</td>\n",
              "      <td>Traffic Density January 2020 Dataset</td>\n",
              "      <td>### Context\\n\\nHourly Traffic Density Data Set...</td>\n",
              "      <td>['exploratory data analysis', 'data visualizat...</td>\n",
              "      <td>unknown</td>\n",
              "    </tr>\n",
              "    <tr>\n",
              "      <th>42953</th>\n",
              "      <td>0</td>\n",
              "      <td>2021-11-20 21:32:01</td>\n",
              "      <td>brandonconrady/coin-jar</td>\n",
              "      <td>438</td>\n",
              "      <td>4</td>\n",
              "      <td>0</td>\n",
              "      <td>37</td>\n",
              "      <td>0</td>\n",
              "      <td>Coin Jar</td>\n",
              "      <td>### Context\\n\\nI got bored and recorded the ye...</td>\n",
              "      <td>['united states', 'categorical data', 'currenc...</td>\n",
              "      <td>CC0-1.0</td>\n",
              "    </tr>\n",
              "    <tr>\n",
              "      <th>42954</th>\n",
              "      <td>0</td>\n",
              "      <td>2021-11-20 21:36:44</td>\n",
              "      <td>duraidkhaalid/tally-marks</td>\n",
              "      <td>4</td>\n",
              "      <td>1</td>\n",
              "      <td>0</td>\n",
              "      <td>1</td>\n",
              "      <td>0</td>\n",
              "      <td>tally_marks</td>\n",
              "      <td>NaN</td>\n",
              "      <td>['education']</td>\n",
              "      <td>unknown</td>\n",
              "    </tr>\n",
              "  </tbody>\n",
              "</table>\n",
              "<p>42955 rows × 12 columns</p>\n",
              "</div>"
            ],
            "text/plain": [
              "       DataSetMedals  ...            license\n",
              "0                  2  ...           ODbL-1.0\n",
              "1                  3  ...    CC-BY-NC-SA-4.0\n",
              "2                  2  ...       CC-BY-SA-3.0\n",
              "3                  3  ...  copyright-authors\n",
              "4                  1  ...    CC-BY-NC-SA-4.0\n",
              "...              ...  ...                ...\n",
              "42950              0  ...            unknown\n",
              "42951              0  ...            unknown\n",
              "42952              0  ...            unknown\n",
              "42953              0  ...            CC0-1.0\n",
              "42954              0  ...            unknown\n",
              "\n",
              "[42955 rows x 12 columns]"
            ]
          },
          "metadata": {},
          "execution_count": 7
        }
      ]
    },
    {
      "cell_type": "markdown",
      "metadata": {
        "id": "_NIYxnZnCxWD"
      },
      "source": [
        "2.2 - Exibir os primeiros registros desta tabela.\n"
      ]
    },
    {
      "cell_type": "code",
      "metadata": {
        "id": "owd5CVN9CxWE",
        "colab": {
          "base_uri": "https://localhost:8080/",
          "height": 328
        },
        "outputId": "63825575-799d-4f8a-afa3-8c085e5da799"
      },
      "source": [
        "df.head()"
      ],
      "execution_count": 8,
      "outputs": [
        {
          "output_type": "execute_result",
          "data": {
            "text/html": [
              "<div>\n",
              "<style scoped>\n",
              "    .dataframe tbody tr th:only-of-type {\n",
              "        vertical-align: middle;\n",
              "    }\n",
              "\n",
              "    .dataframe tbody tr th {\n",
              "        vertical-align: top;\n",
              "    }\n",
              "\n",
              "    .dataframe thead th {\n",
              "        text-align: right;\n",
              "    }\n",
              "</style>\n",
              "<table border=\"1\" class=\"dataframe\">\n",
              "  <thead>\n",
              "    <tr style=\"text-align: right;\">\n",
              "      <th></th>\n",
              "      <th>DataSetMedals</th>\n",
              "      <th>ct</th>\n",
              "      <th>dataUrl</th>\n",
              "      <th>totalviews</th>\n",
              "      <th>votecount</th>\n",
              "      <th>medalvotecount</th>\n",
              "      <th>totaldownloads</th>\n",
              "      <th>totalkernel</th>\n",
              "      <th>title</th>\n",
              "      <th>description</th>\n",
              "      <th>key</th>\n",
              "      <th>license</th>\n",
              "    </tr>\n",
              "  </thead>\n",
              "  <tbody>\n",
              "    <tr>\n",
              "      <th>0</th>\n",
              "      <td>2</td>\n",
              "      <td>2015-12-09 06:16:00</td>\n",
              "      <td>benhamner/nips-2015-papers</td>\n",
              "      <td>69099</td>\n",
              "      <td>96</td>\n",
              "      <td>29</td>\n",
              "      <td>4466</td>\n",
              "      <td>80</td>\n",
              "      <td>NIPS 2015 Papers</td>\n",
              "      <td>[Neural Information Processing Systems (NIPS)]...</td>\n",
              "      <td>['business', 'linguistics', 'artificial intell...</td>\n",
              "      <td>ODbL-1.0</td>\n",
              "    </tr>\n",
              "    <tr>\n",
              "      <th>1</th>\n",
              "      <td>3</td>\n",
              "      <td>2016-02-19 06:37:00</td>\n",
              "      <td>benhamner/2016-us-election</td>\n",
              "      <td>233338</td>\n",
              "      <td>513</td>\n",
              "      <td>90</td>\n",
              "      <td>25261</td>\n",
              "      <td>259</td>\n",
              "      <td>2016 US Election</td>\n",
              "      <td>This contains data relevant for the 2016 US Pr...</td>\n",
              "      <td>['earth and nature', 'politics', 'computer sci...</td>\n",
              "      <td>CC-BY-NC-SA-4.0</td>\n",
              "    </tr>\n",
              "    <tr>\n",
              "      <th>2</th>\n",
              "      <td>2</td>\n",
              "      <td>2016-03-08 22:41:02</td>\n",
              "      <td>seanlahman/the-history-of-baseball</td>\n",
              "      <td>63116</td>\n",
              "      <td>254</td>\n",
              "      <td>47</td>\n",
              "      <td>9294</td>\n",
              "      <td>143</td>\n",
              "      <td>The History of Baseball</td>\n",
              "      <td>Baffled why your team traded for that 34-year-...</td>\n",
              "      <td>['baseball', 'history']</td>\n",
              "      <td>CC-BY-SA-3.0</td>\n",
              "    </tr>\n",
              "    <tr>\n",
              "      <th>3</th>\n",
              "      <td>3</td>\n",
              "      <td>2016-03-09 04:10:56</td>\n",
              "      <td>mylesoneill/world-university-rankings</td>\n",
              "      <td>335275</td>\n",
              "      <td>893</td>\n",
              "      <td>158</td>\n",
              "      <td>60607</td>\n",
              "      <td>487</td>\n",
              "      <td>World University Rankings</td>\n",
              "      <td>Of all the universities in the world, which ar...</td>\n",
              "      <td>['universities and colleges']</td>\n",
              "      <td>copyright-authors</td>\n",
              "    </tr>\n",
              "    <tr>\n",
              "      <th>4</th>\n",
              "      <td>1</td>\n",
              "      <td>2016-03-16 00:00:00</td>\n",
              "      <td>wcukierski/2016-march-ml-mania</td>\n",
              "      <td>18782</td>\n",
              "      <td>58</td>\n",
              "      <td>16</td>\n",
              "      <td>1895</td>\n",
              "      <td>73</td>\n",
              "      <td>2016 March ML Mania Predictions</td>\n",
              "      <td>Kaggle’s [March Machine Learning Mania](https:...</td>\n",
              "      <td>['games', 'basketball', 'artificial intelligen...</td>\n",
              "      <td>CC-BY-NC-SA-4.0</td>\n",
              "    </tr>\n",
              "  </tbody>\n",
              "</table>\n",
              "</div>"
            ],
            "text/plain": [
              "   DataSetMedals  ...            license\n",
              "0              2  ...           ODbL-1.0\n",
              "1              3  ...    CC-BY-NC-SA-4.0\n",
              "2              2  ...       CC-BY-SA-3.0\n",
              "3              3  ...  copyright-authors\n",
              "4              1  ...    CC-BY-NC-SA-4.0\n",
              "\n",
              "[5 rows x 12 columns]"
            ]
          },
          "metadata": {},
          "execution_count": 8
        }
      ]
    },
    {
      "cell_type": "markdown",
      "metadata": {
        "id": "ROM2Hy1CCxWG"
      },
      "source": [
        "2.3 - De que se trata esse banco de dados? e que tipo de previsão pode ser feito com ele?\n"
      ]
    },
    {
      "cell_type": "code",
      "metadata": {
        "id": "Xh68K5SjCxWH"
      },
      "source": [
        "#É base de dados sobre medalhas, ele preve quais tipos de datasets publicar\n",
        "#para ganhar medalhas de prata ou ouro"
      ],
      "execution_count": null,
      "outputs": []
    },
    {
      "cell_type": "markdown",
      "metadata": {
        "id": "1lCf85KKCxWJ"
      },
      "source": [
        "# Questão 3 - valor (2,5)\n"
      ]
    },
    {
      "cell_type": "markdown",
      "metadata": {
        "id": "isyZsq2NCxWK"
      },
      "source": [
        "Utilizando as terminologias de Machine Learning(features e observações):\n",
        "\n"
      ]
    },
    {
      "cell_type": "markdown",
      "metadata": {
        "id": "pbuaWyeECxWL"
      },
      "source": [
        "3.1 - Quantas \"features\" têm nessa base de dados?"
      ]
    },
    {
      "cell_type": "code",
      "metadata": {
        "id": "MY5Xwd0gCxWL"
      },
      "source": [
        "4 features"
      ],
      "execution_count": null,
      "outputs": []
    },
    {
      "cell_type": "markdown",
      "metadata": {
        "id": "RtwxkASmCxWN"
      },
      "source": [
        "3.2 - Quantas observações têm nessa base de dados?\n"
      ]
    },
    {
      "cell_type": "code",
      "metadata": {
        "id": "yN1QNvh-CxWO"
      },
      "source": [
        "42956 linhas"
      ],
      "execution_count": null,
      "outputs": []
    },
    {
      "cell_type": "markdown",
      "metadata": {
        "id": "tcAYZJP8zlX3"
      },
      "source": [
        "3.3 - Separe o que é entrada (features) do seu dataset na variável X, e exiba."
      ]
    },
    {
      "cell_type": "code",
      "metadata": {
        "id": "sntqiY6UzuaT"
      },
      "source": [
        "df_x = df[df.columns[0:1].tolist()+df.columns[3:6].tolist()]"
      ],
      "execution_count": 9,
      "outputs": []
    },
    {
      "cell_type": "code",
      "metadata": {
        "colab": {
          "base_uri": "https://localhost:8080/",
          "height": 424
        },
        "id": "-pZry4dE7g_l",
        "outputId": "6bfe2fcf-b77f-48cc-a007-bb4ac7d9a458"
      },
      "source": [
        "df_x"
      ],
      "execution_count": 10,
      "outputs": [
        {
          "output_type": "execute_result",
          "data": {
            "text/html": [
              "<div>\n",
              "<style scoped>\n",
              "    .dataframe tbody tr th:only-of-type {\n",
              "        vertical-align: middle;\n",
              "    }\n",
              "\n",
              "    .dataframe tbody tr th {\n",
              "        vertical-align: top;\n",
              "    }\n",
              "\n",
              "    .dataframe thead th {\n",
              "        text-align: right;\n",
              "    }\n",
              "</style>\n",
              "<table border=\"1\" class=\"dataframe\">\n",
              "  <thead>\n",
              "    <tr style=\"text-align: right;\">\n",
              "      <th></th>\n",
              "      <th>DataSetMedals</th>\n",
              "      <th>totalviews</th>\n",
              "      <th>votecount</th>\n",
              "      <th>medalvotecount</th>\n",
              "    </tr>\n",
              "  </thead>\n",
              "  <tbody>\n",
              "    <tr>\n",
              "      <th>0</th>\n",
              "      <td>2</td>\n",
              "      <td>69099</td>\n",
              "      <td>96</td>\n",
              "      <td>29</td>\n",
              "    </tr>\n",
              "    <tr>\n",
              "      <th>1</th>\n",
              "      <td>3</td>\n",
              "      <td>233338</td>\n",
              "      <td>513</td>\n",
              "      <td>90</td>\n",
              "    </tr>\n",
              "    <tr>\n",
              "      <th>2</th>\n",
              "      <td>2</td>\n",
              "      <td>63116</td>\n",
              "      <td>254</td>\n",
              "      <td>47</td>\n",
              "    </tr>\n",
              "    <tr>\n",
              "      <th>3</th>\n",
              "      <td>3</td>\n",
              "      <td>335275</td>\n",
              "      <td>893</td>\n",
              "      <td>158</td>\n",
              "    </tr>\n",
              "    <tr>\n",
              "      <th>4</th>\n",
              "      <td>1</td>\n",
              "      <td>18782</td>\n",
              "      <td>58</td>\n",
              "      <td>16</td>\n",
              "    </tr>\n",
              "    <tr>\n",
              "      <th>...</th>\n",
              "      <td>...</td>\n",
              "      <td>...</td>\n",
              "      <td>...</td>\n",
              "      <td>...</td>\n",
              "    </tr>\n",
              "    <tr>\n",
              "      <th>42950</th>\n",
              "      <td>0</td>\n",
              "      <td>8</td>\n",
              "      <td>1</td>\n",
              "      <td>0</td>\n",
              "    </tr>\n",
              "    <tr>\n",
              "      <th>42951</th>\n",
              "      <td>0</td>\n",
              "      <td>4</td>\n",
              "      <td>1</td>\n",
              "      <td>0</td>\n",
              "    </tr>\n",
              "    <tr>\n",
              "      <th>42952</th>\n",
              "      <td>0</td>\n",
              "      <td>12</td>\n",
              "      <td>1</td>\n",
              "      <td>1</td>\n",
              "    </tr>\n",
              "    <tr>\n",
              "      <th>42953</th>\n",
              "      <td>0</td>\n",
              "      <td>438</td>\n",
              "      <td>4</td>\n",
              "      <td>0</td>\n",
              "    </tr>\n",
              "    <tr>\n",
              "      <th>42954</th>\n",
              "      <td>0</td>\n",
              "      <td>4</td>\n",
              "      <td>1</td>\n",
              "      <td>0</td>\n",
              "    </tr>\n",
              "  </tbody>\n",
              "</table>\n",
              "<p>42955 rows × 4 columns</p>\n",
              "</div>"
            ],
            "text/plain": [
              "       DataSetMedals  totalviews  votecount  medalvotecount\n",
              "0                  2       69099         96              29\n",
              "1                  3      233338        513              90\n",
              "2                  2       63116        254              47\n",
              "3                  3      335275        893             158\n",
              "4                  1       18782         58              16\n",
              "...              ...         ...        ...             ...\n",
              "42950              0           8          1               0\n",
              "42951              0           4          1               0\n",
              "42952              0          12          1               1\n",
              "42953              0         438          4               0\n",
              "42954              0           4          1               0\n",
              "\n",
              "[42955 rows x 4 columns]"
            ]
          },
          "metadata": {},
          "execution_count": 10
        }
      ]
    },
    {
      "cell_type": "code",
      "metadata": {
        "colab": {
          "base_uri": "https://localhost:8080/"
        },
        "id": "pDE0Zv_6PKCT",
        "outputId": "9bd6f9bb-d7e9-43ad-ee08-2b7d08c85f10"
      },
      "source": [
        "len(df_x)"
      ],
      "execution_count": 11,
      "outputs": [
        {
          "output_type": "execute_result",
          "data": {
            "text/plain": [
              "42955"
            ]
          },
          "metadata": {},
          "execution_count": 11
        }
      ]
    },
    {
      "cell_type": "markdown",
      "metadata": {
        "id": "FkA2G20zzvHX"
      },
      "source": [
        "3.4 - Separe o que é saída (target/resposta) do seu dataset na variável y, e exiba."
      ]
    },
    {
      "cell_type": "code",
      "metadata": {
        "colab": {
          "base_uri": "https://localhost:8080/",
          "height": 424
        },
        "id": "qqgPtt1d9hAL",
        "outputId": "c40038d1-f987-45e3-b050-fa25fe54eb07"
      },
      "source": [
        "df_y = df_x[df_x.columns[3:5].tolist()]\n",
        "df_y"
      ],
      "execution_count": 12,
      "outputs": [
        {
          "output_type": "execute_result",
          "data": {
            "text/html": [
              "<div>\n",
              "<style scoped>\n",
              "    .dataframe tbody tr th:only-of-type {\n",
              "        vertical-align: middle;\n",
              "    }\n",
              "\n",
              "    .dataframe tbody tr th {\n",
              "        vertical-align: top;\n",
              "    }\n",
              "\n",
              "    .dataframe thead th {\n",
              "        text-align: right;\n",
              "    }\n",
              "</style>\n",
              "<table border=\"1\" class=\"dataframe\">\n",
              "  <thead>\n",
              "    <tr style=\"text-align: right;\">\n",
              "      <th></th>\n",
              "      <th>medalvotecount</th>\n",
              "    </tr>\n",
              "  </thead>\n",
              "  <tbody>\n",
              "    <tr>\n",
              "      <th>0</th>\n",
              "      <td>29</td>\n",
              "    </tr>\n",
              "    <tr>\n",
              "      <th>1</th>\n",
              "      <td>90</td>\n",
              "    </tr>\n",
              "    <tr>\n",
              "      <th>2</th>\n",
              "      <td>47</td>\n",
              "    </tr>\n",
              "    <tr>\n",
              "      <th>3</th>\n",
              "      <td>158</td>\n",
              "    </tr>\n",
              "    <tr>\n",
              "      <th>4</th>\n",
              "      <td>16</td>\n",
              "    </tr>\n",
              "    <tr>\n",
              "      <th>...</th>\n",
              "      <td>...</td>\n",
              "    </tr>\n",
              "    <tr>\n",
              "      <th>42950</th>\n",
              "      <td>0</td>\n",
              "    </tr>\n",
              "    <tr>\n",
              "      <th>42951</th>\n",
              "      <td>0</td>\n",
              "    </tr>\n",
              "    <tr>\n",
              "      <th>42952</th>\n",
              "      <td>1</td>\n",
              "    </tr>\n",
              "    <tr>\n",
              "      <th>42953</th>\n",
              "      <td>0</td>\n",
              "    </tr>\n",
              "    <tr>\n",
              "      <th>42954</th>\n",
              "      <td>0</td>\n",
              "    </tr>\n",
              "  </tbody>\n",
              "</table>\n",
              "<p>42955 rows × 1 columns</p>\n",
              "</div>"
            ],
            "text/plain": [
              "       medalvotecount\n",
              "0                  29\n",
              "1                  90\n",
              "2                  47\n",
              "3                 158\n",
              "4                  16\n",
              "...               ...\n",
              "42950               0\n",
              "42951               0\n",
              "42952               1\n",
              "42953               0\n",
              "42954               0\n",
              "\n",
              "[42955 rows x 1 columns]"
            ]
          },
          "metadata": {},
          "execution_count": 12
        }
      ]
    },
    {
      "cell_type": "code",
      "metadata": {
        "id": "P5AO6q3-QvWI",
        "colab": {
          "base_uri": "https://localhost:8080/"
        },
        "outputId": "053bbcc3-a980-4b9e-9b60-f73127cb2966"
      },
      "source": [
        "type(df_x)"
      ],
      "execution_count": 13,
      "outputs": [
        {
          "output_type": "execute_result",
          "data": {
            "text/plain": [
              "pandas.core.frame.DataFrame"
            ]
          },
          "metadata": {},
          "execution_count": 13
        }
      ]
    },
    {
      "cell_type": "markdown",
      "metadata": {
        "id": "AudYWfr1CxWQ"
      },
      "source": [
        "# Questão 4 - valor (1,5)\n"
      ]
    },
    {
      "cell_type": "markdown",
      "metadata": {
        "id": "pJxRMc1HCxWR"
      },
      "source": [
        "4.1 - Utilizando a sua base, faça um treinamento e uma previsão, usando o algoritmo de clsssificação de sua escolha.\n"
      ]
    },
    {
      "cell_type": "code",
      "metadata": {
        "id": "Tu7ZKtSkCxWS"
      },
      "source": [
        "from sklearn.neighbors import KNeighborsClassifier"
      ],
      "execution_count": 14,
      "outputs": []
    },
    {
      "cell_type": "code",
      "metadata": {
        "id": "5Cn3Zdd5_SLS"
      },
      "source": [
        "from sklearn import preprocessing"
      ],
      "execution_count": 15,
      "outputs": []
    },
    {
      "cell_type": "code",
      "metadata": {
        "id": "8QvuJxFeS6P1"
      },
      "source": [
        "x = list(df_x['DataSetMedals'])\n",
        "y = list(df_y['medalvotecount'])"
      ],
      "execution_count": 16,
      "outputs": []
    },
    {
      "cell_type": "code",
      "metadata": {
        "id": "rHsXNf1_U0u_"
      },
      "source": [
        "knn = KNeighborsClassifier(n_neighbors=1)"
      ],
      "execution_count": 17,
      "outputs": []
    },
    {
      "cell_type": "code",
      "metadata": {
        "id": "bTDKvU8L4IEd",
        "colab": {
          "base_uri": "https://localhost:8080/"
        },
        "outputId": "15cfa730-d66a-437b-c305-54760c6ae465"
      },
      "source": [
        "knn.fit(df_x,df_y)"
      ],
      "execution_count": 18,
      "outputs": [
        {
          "output_type": "execute_result",
          "data": {
            "text/plain": [
              "KNeighborsClassifier(n_neighbors=1)"
            ]
          },
          "metadata": {},
          "execution_count": 18
        }
      ]
    },
    {
      "cell_type": "code",
      "metadata": {
        "id": "ZjCcgN2SRmar",
        "colab": {
          "base_uri": "https://localhost:8080/"
        },
        "outputId": "4524feda-d7ea-4b82-9aa0-5d36e4930cb0"
      },
      "source": [
        "arrayTreino = [[1, 2, 1, 1], [1, 1, 1, 1]]\n",
        "#arrayTreino = [df_x, df_y]\n",
        "\n",
        "knn.predict(arrayTreino)"
      ],
      "execution_count": 19,
      "outputs": [
        {
          "output_type": "execute_result",
          "data": {
            "text/plain": [
              "array([1, 1])"
            ]
          },
          "metadata": {},
          "execution_count": 19
        }
      ]
    },
    {
      "cell_type": "markdown",
      "metadata": {
        "id": "xbpLvAhTCxWU"
      },
      "source": [
        "# Questão 5 - valor (1,5)\n",
        "\n",
        "\n",
        "\n"
      ]
    },
    {
      "cell_type": "markdown",
      "metadata": {
        "id": "cp4fWsL7CxWU"
      },
      "source": [
        "Usando o método de avaliação de acurácia (Train test split), Escolha outros 2 algoritmos de classificação e calcule a acurácia dos mesmos."
      ]
    },
    {
      "cell_type": "code",
      "metadata": {
        "id": "oLfhvN4ShEhD"
      },
      "source": [
        "from sklearn.model_selection import train_test_split"
      ],
      "execution_count": 20,
      "outputs": []
    },
    {
      "cell_type": "code",
      "metadata": {
        "id": "lrbq0-cgoC99"
      },
      "source": [
        "import torch"
      ],
      "execution_count": 21,
      "outputs": []
    },
    {
      "cell_type": "code",
      "metadata": {
        "id": "dltj9VMErCqb"
      },
      "source": [
        "medalvotecount_size = int(len(df_x) * 0.8)\n",
        "valid_size = len(df_x) - medalvotecount_size"
      ],
      "execution_count": 22,
      "outputs": []
    },
    {
      "cell_type": "code",
      "metadata": {
        "id": "1UdpHUDTrrru"
      },
      "source": [
        "medalvotecount_data,test_data=torch.utils.data.random_split(df_x,[medalvotecount_size, valid_size])"
      ],
      "execution_count": 23,
      "outputs": []
    },
    {
      "cell_type": "code",
      "metadata": {
        "colab": {
          "base_uri": "https://localhost:8080/"
        },
        "id": "MWacd8PYhQwy",
        "outputId": "e35536a0-8cb0-485d-f592-a914fb6263dc"
      },
      "source": [
        "print(len(medalvotecount_data),len(test_data))"
      ],
      "execution_count": 24,
      "outputs": [
        {
          "output_type": "stream",
          "name": "stdout",
          "text": [
            "34364 8591\n"
          ]
        }
      ]
    },
    {
      "cell_type": "markdown",
      "metadata": {
        "id": "mNmy44xfCxWY"
      },
      "source": [
        "5.2 - Acurácia usando o algoritmo 1 ?\n"
      ]
    },
    {
      "cell_type": "code",
      "metadata": {
        "id": "Nv5k4dPwfpOr"
      },
      "source": [
        "train_data = df_x\n",
        "test_data = df_x"
      ],
      "execution_count": 25,
      "outputs": []
    },
    {
      "cell_type": "code",
      "metadata": {
        "colab": {
          "base_uri": "https://localhost:8080/"
        },
        "id": "SlNKRIG4f0Bn",
        "outputId": "b7f4049f-9c23-43a7-ef10-d5432712501a"
      },
      "source": [
        "print('Shape of training data :',train_data.shape)"
      ],
      "execution_count": 26,
      "outputs": [
        {
          "output_type": "stream",
          "name": "stdout",
          "text": [
            "Shape of training data : (42955, 4)\n"
          ]
        }
      ]
    },
    {
      "cell_type": "code",
      "metadata": {
        "colab": {
          "base_uri": "https://localhost:8080/"
        },
        "id": "0oU6l-HWf5wl",
        "outputId": "f02879b1-209d-422b-fba3-35a1fd121b2b"
      },
      "source": [
        "print('Shape of testing data :',test_data.shape)"
      ],
      "execution_count": 27,
      "outputs": [
        {
          "output_type": "stream",
          "name": "stdout",
          "text": [
            "Shape of testing data : (42955, 4)\n"
          ]
        }
      ]
    },
    {
      "cell_type": "code",
      "metadata": {
        "colab": {
          "base_uri": "https://localhost:8080/"
        },
        "id": "jLU-cbsTggeI",
        "outputId": "6d48c33a-1093-4ae1-8104-f7506f3cd206"
      },
      "source": [
        "from sklearn.metrics import accuracy_score\n",
        "from sklearn.linear_model import LogisticRegression\n",
        "\n",
        "train_x = train_data.drop(columns=['DataSetMedals'],axis=1)\n",
        "train_y = train_data['DataSetMedals']\n",
        "\n",
        "test_x = test_data.drop(columns=['DataSetMedals'],axis=1)\n",
        "test_y = test_data['DataSetMedals']\n",
        "\n",
        "model = LogisticRegression(solver='liblinear')\n",
        "model.fit(train_x,train_y)\n",
        "\n",
        "predict_train = model.predict(train_x)\n",
        "\n",
        "accuracy_train = accuracy_score(train_y,predict_train)\n",
        "print('accuracy_score on train dataset : ', accuracy_train)"
      ],
      "execution_count": 37,
      "outputs": [
        {
          "output_type": "stream",
          "name": "stdout",
          "text": [
            "accuracy_score on train dataset :  0.9205447561401466\n"
          ]
        }
      ]
    },
    {
      "cell_type": "markdown",
      "metadata": {
        "id": "3xUZm_JICxWa"
      },
      "source": [
        "5.3 - Acurácia usando o algoritmo 2 ?\n",
        "\n",
        "\n",
        "\n"
      ]
    },
    {
      "cell_type": "code",
      "metadata": {
        "colab": {
          "base_uri": "https://localhost:8080/"
        },
        "id": "nU2RdrLUkMbg",
        "outputId": "53edbb06-8609-414f-d12c-e634868abbe1"
      },
      "source": [
        "from sklearn.tree import DecisionTreeClassifier\n",
        "\n",
        "X_train, X_test, y_train, y_test = train_test_split(x, y, test_size=0.7)\n",
        "\n",
        "X_train = train_data.drop(columns=['DataSetMedals'],axis=1)\n",
        "y_train = train_data['DataSetMedals']\n",
        "\n",
        "X_test = test_data.drop(columns=['DataSetMedals'],axis=1)\n",
        "y_test = test_data['DataSetMedals']\n",
        "\n",
        "# Criando modelo e treinando com os dados de treino\n",
        "dtc = DecisionTreeClassifier()\n",
        "dtc.fit(X_train, y_train)\n",
        "# Fazendo a predição nos dados de treino\n",
        "resultado_dtc = dtc.predict(X_test)\n",
        "\n",
        "accuracy_train = accuracy_score(y_train,resultado_dtc)\n",
        "print('accuracy_score on train dataset : ', accuracy_train)"
      ],
      "execution_count": 77,
      "outputs": [
        {
          "output_type": "stream",
          "name": "stdout",
          "text": [
            "accuracy_score on train dataset :  1.0\n"
          ]
        }
      ]
    },
    {
      "cell_type": "markdown",
      "metadata": {
        "id": "8FkyIUHbCxWd"
      },
      "source": [
        "5.4 - De acordo com seus resultados anteriores, qual dos 2 algoritmos é mais eficiente?\n"
      ]
    },
    {
      "cell_type": "code",
      "metadata": {
        "id": "K0AE8XQ1CxWd"
      },
      "source": [
        "O segundo algoritmo possui uma acurácia maior que o primeiro, logo ele é o melhor algoritmo"
      ],
      "execution_count": null,
      "outputs": []
    },
    {
      "cell_type": "markdown",
      "metadata": {
        "id": "QIAfJToiy77F"
      },
      "source": [
        "# Questão 6 - valor (1,5)\n",
        "\n"
      ]
    },
    {
      "cell_type": "markdown",
      "metadata": {
        "id": "Is2wXGy3ySgF"
      },
      "source": [
        "6 - Faça um visualização auto-explicativa da sua base de dados utilizando o matplotlib. Coloque o código e a visualização abaixo.\n"
      ]
    },
    {
      "cell_type": "code",
      "metadata": {
        "id": "DdlmwhZlyi_7"
      },
      "source": [
        "import matplotlib.pyplot as plt "
      ],
      "execution_count": 29,
      "outputs": []
    },
    {
      "cell_type": "code",
      "metadata": {
        "id": "u6ePzOs5a-3J"
      },
      "source": [
        "x=[0,1,2,3]"
      ],
      "execution_count": null,
      "outputs": []
    },
    {
      "cell_type": "code",
      "metadata": {
        "id": "4eM7oCIS9KmI"
      },
      "source": [
        "y=[0,500,1000,3000]"
      ],
      "execution_count": 57,
      "outputs": []
    },
    {
      "cell_type": "code",
      "metadata": {
        "colab": {
          "base_uri": "https://localhost:8080/",
          "height": 295
        },
        "id": "XjRoTwcDG1fJ",
        "outputId": "74d550f7-0210-4a56-8435-cb9f68f831ea"
      },
      "source": [
        "plt.plot(x,y,color=\"pink\")\n",
        "plt.xlabel(\"Tipo de metalhas\")\n",
        "plt.ylabel(\"Quantidade de votas\")\n",
        "plt.title(\"Todos tipos de medalhas e Quantidade de votas\")\n",
        "plt.show()"
      ],
      "execution_count": 61,
      "outputs": [
        {
          "output_type": "display_data",
          "data": {
            "image/png": "[encoded data removed]",
            "text/plain": [
              "<Figure size 432x288 with 1 Axes>"
            ]
          },
          "metadata": {
            "needs_background": "light"
          }
        }
      ]
    },
    {
      "cell_type": "code",
      "metadata": {
        "id": "zRDUIRloCxWf"
      },
      "source": [
        "*** Envie o link do seu Github com essa resposta no Classroom\n",
        "https://github.com/Willian-PD/Gestao-do-conhecimento-AV2/blob/main/2021_2_Prova_AV2_Gesta%CC%83o_do_Conhecimento.ipynb"
      ],
      "execution_count": null,
      "outputs": []
    }
  ]
}